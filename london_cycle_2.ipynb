{
 "cells": [
  {
   "cell_type": "code",
   "execution_count": 94,
   "metadata": {},
   "outputs": [
    {
     "name": "stdout",
     "output_type": "stream",
     "text": [
      "Collecting geopy\n",
      "  Downloading geopy-2.1.0-py3-none-any.whl (112 kB)\n",
      "\u001b[K     |████████████████████████████████| 112 kB 5.3 MB/s eta 0:00:01\n",
      "\u001b[?25hCollecting geographiclib<2,>=1.49\n",
      "  Downloading geographiclib-1.50-py3-none-any.whl (38 kB)\n",
      "Installing collected packages: geographiclib, geopy\n",
      "Successfully installed geographiclib-1.50 geopy-2.1.0\n"
     ]
    }
   ],
   "source": [
    "!pip install geopy"
   ]
  },
  {
   "cell_type": "code",
   "execution_count": 158,
   "metadata": {},
   "outputs": [],
   "source": [
    "import pandas as pd\n",
    "import numpy as np\n",
    "import datetime\n",
    "from geopy.distance import geodesic\n"
   ]
  },
  {
   "cell_type": "code",
   "execution_count": 173,
   "metadata": {
    "scrolled": true
   },
   "outputs": [],
   "source": [
    "df1 =pd.read_csv('results-hire.csv')\n",
    "# df1"
   ]
  },
  {
   "cell_type": "code",
   "execution_count": 174,
   "metadata": {},
   "outputs": [],
   "source": [
    "df2 =pd.read_csv('results-station.csv')\n",
    "# df2"
   ]
  },
  {
   "cell_type": "code",
   "execution_count": 175,
   "metadata": {},
   "outputs": [],
   "source": [
    "places = []\n",
    "lats = df2['latitude']\n",
    "lons = df2['longitude']\n",
    "names = df2['name']\n",
    "ids = df2['id']\n",
    "n = len(lats)\n",
    "for i in range(n):\n",
    "    places.append([lats[i], lons[i], names[i], ids[i]])\n",
    "# print(places)\n",
    "\n",
    "output2 = []\n",
    "for i in range(len(df1)):\n",
    "    end_station_id = df1['end_station_id'][i]\n",
    "    start_station_id = df1['start_station_id'][i]\n",
    "    end_lat = 0\n",
    "    end_lon = 0\n",
    "    start_lat = 0\n",
    "    start_lon = 0\n",
    "    for j in range(n):\n",
    "        if places[j][3] == end_station_id:\n",
    "            end_lat = places[j][0]\n",
    "            end_lon = places[j][1]\n",
    "        if places[j][3] == start_station_id:\n",
    "            start_lat = places[j][0]\n",
    "            start_lot = places[j][1]\n",
    "    rho = geodesic((end_lat, end_lon), (start_lat, end_lon)).m\n",
    "    output.append([rho, df1['end_station_name'][i], df1['start_station_name'][i]])\n",
    "#     print(rho, end_station_id, start_station_id)\n",
    "\n",
    "# print(output)"
   ]
  },
  {
   "cell_type": "code",
   "execution_count": 176,
   "metadata": {},
   "outputs": [
    {
     "data": {
      "text/plain": [
       "dtype('O')"
      ]
     },
     "execution_count": 176,
     "metadata": {},
     "output_type": "execute_result"
    }
   ],
   "source": [
    "df1['end_date'].dtypes"
   ]
  },
  {
   "cell_type": "code",
   "execution_count": 177,
   "metadata": {},
   "outputs": [],
   "source": [
    "end_times = df1['end_date']\n",
    "start_times = df1['start_date']"
   ]
  },
  {
   "cell_type": "code",
   "execution_count": 178,
   "metadata": {},
   "outputs": [],
   "source": [
    "total_times = []\n",
    "for i in range(len(end_times)):\n",
    "#     print(str(end_times[i])[:-4])\n",
    "    ch_end_date = datetime.datetime.strptime(str(end_times[i][:-4]), '%Y-%m-%d %H:%M:%S')\n",
    "    ch_start_date = datetime.datetime.strptime(str(start_times[i][:-4]), '%Y-%m-%d %H:%M:%S')\n",
    "    total_times.append(ch_end_date - ch_start_date)\n",
    "# print(total_times)"
   ]
  },
  {
   "cell_type": "code",
   "execution_count": 179,
   "metadata": {
    "scrolled": false
   },
   "outputs": [],
   "source": [
    "# speed = @距離@ /['duration']\n",
    "speeds = []\n",
    "for i in range(len(total_times)):\n",
    "#     print(total_times[i].total_seconds())\n",
    "    if df1['duration'][i] > 7200 or df1['duration'][i] <= 0:\n",
    "#         print('時間のハズレ値', i)\n",
    "        continue\n",
    "    if output[i][0] < 500 or output[i][0] > 1000000:\n",
    "#         print('距離のハズレ値', i)\n",
    "        continue\n",
    "    speed = (output[i][0]) / df1['duration'][i]\n",
    "#     print(output[i][0], df1['duration'][i])\n",
    "    speeds.append(speed)\n",
    "# print(len(total_times), len(output))\n",
    "# print(speeds[1])\n",
    "df_speeds = pd.Series(speeds)"
   ]
  },
  {
   "cell_type": "code",
   "execution_count": 180,
   "metadata": {},
   "outputs": [
    {
     "data": {
      "text/plain": [
       "count    55.000000\n",
       "mean      7.065821\n",
       "std      21.363079\n",
       "min       0.849714\n",
       "25%       1.498130\n",
       "50%       2.068121\n",
       "75%       2.571607\n",
       "max      95.174295\n",
       "dtype: float64"
      ]
     },
     "execution_count": 180,
     "metadata": {},
     "output_type": "execute_result"
    }
   ],
   "source": [
    "df_speeds_nonnan = df_speeds.dropna().reset_index(drop=True)\n",
    "speeds_nonnan_noninf = []\n",
    "for i in range(len(df_speeds_nonnan)):\n",
    "#     if df_speeds_nonnan[i] > 200:\n",
    "#         continue\n",
    "    speeds_nonnan_noninf.append(df_speeds_nonnan[i])\n",
    "#         print('done')\n",
    "df_speeds_nonnan_noninf = pd.Series(speeds_nonnan_noninf)\n",
    "df_speeds_nonnan_noninf.describe()\n"
   ]
  },
  {
   "cell_type": "code",
   "execution_count": null,
   "metadata": {},
   "outputs": [],
   "source": []
  }
 ],
 "metadata": {
  "kernelspec": {
   "display_name": "Python 3",
   "language": "python",
   "name": "python3"
  },
  "language_info": {
   "codemirror_mode": {
    "name": "ipython",
    "version": 3
   },
   "file_extension": ".py",
   "mimetype": "text/x-python",
   "name": "python",
   "nbconvert_exporter": "python",
   "pygments_lexer": "ipython3",
   "version": "3.8.3"
  }
 },
 "nbformat": 4,
 "nbformat_minor": 4
}
